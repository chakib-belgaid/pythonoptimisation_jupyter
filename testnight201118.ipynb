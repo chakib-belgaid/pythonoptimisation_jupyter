{
 "cells": [
  {
   "cell_type": "code",
   "execution_count": 1,
   "metadata": {},
   "outputs": [
    {
     "data": {
      "text/plain": [
       "'timestamp_1'"
      ]
     },
     "execution_count": 1,
     "metadata": {},
     "output_type": "execute_result"
    }
   ],
   "source": [
    "import pymongo\n",
    "import math \n",
    "import re\n",
    "import pandas as pd\n",
    "import numpy as np\n",
    "import pylab\n",
    "from scipy import stats \n",
    "\n",
    "from  qgrid import show_grid as show \n",
    "from datetime import datetime\n",
    "\n",
    "today=!(date +\"%d%m%y\")\n",
    "today=today[0]\n",
    "testname=\"testnight201118\"\n",
    "client = pymongo.MongoClient('172.16.45.8', 27017)\n",
    "db = client.rapls\n",
    "sensors= db[\"sensor\"+testname]\n",
    "sensors.create_index([('timestamp',pymongo.ASCENDING)])"
   ]
  },
  {
   "cell_type": "code",
   "execution_count": 2,
   "metadata": {},
   "outputs": [],
   "source": [
    "def get_times(target,source=db[\"testcases\"+testname]):\n",
    "    \"\"\"convert the time stamps from int to datetame \"\"\"\n",
    "    x= list(db[\"testcases\"+testname].find({'name':target}))[0]\n",
    "    x['execution']=datetime.utcfromtimestamp(int(x['execution']))\n",
    "    x['begin']=datetime.utcfromtimestamp(int(x['begin']))\n",
    "    x['end']=datetime.utcfromtimestamp(int(x['end']))\n",
    "    x['warmup']=datetime.utcfromtimestamp(int(x['warmup']))\n",
    "    return x \n",
    "\n",
    "def calculate_power(times,source=sensors):\n",
    "    \"\"\"need a time object from get_times function and return 2 dataframes  \"\"\"\n",
    "    cursor =sensors.find({'target':'system','timestamp' :{'$gte':times['begin'],'$lte':times['end']}},{\"_id\":0,\"timestamp\":\"timestamp\",\"rapl.0.38.RAPL_ENERGY_PKG\":\"rapls\"})\n",
    "    results=pd.DataFrame(list(cursor),columns=['timestamp',\"rapl\"])\n",
    "    results[\"rapl\"]=results[\"rapl\"].apply(lambda row :math.ldexp( row['0']['38']['RAPL_ENERGY_PKG'],-32))\n",
    "    warmup=results[(results[\"timestamp\"]<=times[\"execution\"]) & (results[\"timestamp\"]>times[\"warmup\"] )]\n",
    "    execution = results[(results[\"timestamp\"]>times[\"execution\"]) ]\n",
    "    return warmup , execution\n",
    "\n",
    "def calculate_energy(times,source=sensors) : \n",
    "    \"\"\"need a times object from get_times \"\"\"\n",
    "    warmup,execution =calculate_power(times)\n",
    "    return   warmup[\"rapl\"].sum() , execution[\"rapl\"].sum()\n",
    "\n",
    "def get_recap(target):\n",
    "    \"\"\"require a row from the database and not a times object\"\"\"\n",
    "    times=get_times(target['name'])\n",
    "    energy=calculate_energy(times)\n",
    "    return {'name': target['name'] \n",
    "            ,'warmup time': (int(target['execution'])-int(target['warmup'])) \n",
    "            ,'warmup energy': energy[0] \n",
    "            ,'execution time': (int(target['end'])-int(target['execution']) )\n",
    "            ,'execution energy': energy[1]\n",
    "           }\n",
    "\n",
    "def correction(self): \n",
    "    low = 0.25\n",
    "    high = 0.75\n",
    "    q1,q3 = self.quantile([low, high])\n",
    "    iqr=q3-q1\n",
    "    inf,sup = q1-1.5*iqr,q3+1.5*iqr\n",
    "    return self[(self >inf )  & (self  < sup) ].dropna()\n",
    "\n",
    "def correction2(self,measure=\"execution energy\"): \n",
    "    low = 0.25\n",
    "    high = 0.75\n",
    "    q1,q3 = self[measure].quantile([low, high])\n",
    "    iqr=q3-q1\n",
    "    inf,sup = q1-1.5*iqr,q3+1.5*iqr\n",
    "    return self[(self[measure] >inf )  & (self[measure]  < sup) ].dropna()\n",
    "\n",
    "\n",
    "pd.Series.correct=correction \n",
    "pd.DataFrame.correct=correction2 \n",
    "\n"
   ]
  },
  {
   "cell_type": "code",
   "execution_count": 86,
   "metadata": {
    "scrolled": true
   },
   "outputs": [],
   "source": [
    "regx = re.compile(\".*int10.*\", re.IGNORECASE)\n",
    "times=pd.DataFrame.from_dict(list(db[\"testcases\"+testname].find({\"name\":regx})))\n",
    "show(times)\n",
    "# data = pd.DataFrame(columns=['name','warmup time','warmup energy','execution time ','execution energy']) \n",
    "data=[]\n",
    "times.apply(lambda row: data.append(get_recap(row)), axis=1)\n",
    "    \n",
    "data=pd.DataFrame.from_dict(data)\n",
    "# show(data)"
   ]
  },
  {
   "cell_type": "code",
   "execution_count": 87,
   "metadata": {},
   "outputs": [
    {
     "data": {
      "application/vnd.jupyter.widget-view+json": {
       "model_id": "6914786e5408400c8e935f1ac8d901d2",
       "version_major": 2,
       "version_minor": 0
      },
      "text/plain": [
       "QgridWidget(grid_options={'fullWidthRows': True, 'syncColumnCellResize': True, 'forceFitColumns': True, 'defau…"
      ]
     },
     "metadata": {},
     "output_type": "display_data"
    }
   ],
   "source": [
    "data[\"implementation\"]= data[\"name\"].apply(lambda name:re.search('tommtiv1(?P<name>.*)int10n', name).group(1))\n",
    "mystats=data.groupby(\"implementation\")\n",
    "# mystats=mystats.apply(lambda x : x.correct())\n",
    "mystats=mystats.mean()\n",
    "mystats=mystats.sort_values(\"execution energy\",ascending=False)\n",
    "show(mystats)"
   ]
  },
  {
   "cell_type": "code",
   "execution_count": 61,
   "metadata": {},
   "outputs": [
    {
     "data": {
      "text/plain": [
       "Text(0.5,0,'energy(j)')"
      ]
     },
     "execution_count": 61,
     "metadata": {},
     "output_type": "execute_result"
    },
    {
     "data": {
      "image/png": "[encoded data removed]",
      "text/plain": [
       "<Figure size 432x288 with 1 Axes>"
      ]
     },
     "metadata": {
      "needs_background": "light"
     },
     "output_type": "display_data"
    }
   ],
   "source": [
    "mystats['execution energy'].plot(kind='barh',grid=True,sort_columns=True,title=\"int 5-10\").set_xlabel(\"energy(j)\")"
   ]
  },
  {
   "cell_type": "code",
   "execution_count": 79,
   "metadata": {},
   "outputs": [
    {
     "data": {
      "application/vnd.jupyter.widget-view+json": {
       "model_id": "429fc12c803645c2b4fd5fd404b1cdcf",
       "version_major": 2,
       "version_minor": 0
      },
      "text/plain": [
       "QgridWidget(grid_options={'fullWidthRows': True, 'syncColumnCellResize': True, 'forceFitColumns': True, 'defau…"
      ]
     },
     "metadata": {},
     "output_type": "display_data"
    }
   ],
   "source": [
    "regx = re.compile(\".*cpython2int5n.*\", re.IGNORECASE)\n",
    "times1=pd.DataFrame.from_dict(list(db[\"testcases\"+testname].find({\"name\":regx})))\n",
    "# data1 = pd.DataFrame(columns=['name','warmup time','warmup energy','execution time ','execution energy']) \n",
    "data1=[]\n",
    "times1.apply(lambda row: data1.append(get_recap(row)), axis=1)\n",
    "    \n",
    "data1=pd.DataFrame.from_dict(data1)\n",
    "show(data1)"
   ]
  },
  {
   "cell_type": "code",
   "execution_count": 80,
   "metadata": {},
   "outputs": [
    {
     "data": {
      "text/plain": [
       "<matplotlib.axes._subplots.AxesSubplot at 0x7fedb2e0f710>"
      ]
     },
     "execution_count": 80,
     "metadata": {},
     "output_type": "execute_result"
    },
    {
     "data": {
      "image/png": "[encoded data removed]",
      "text/plain": [
       "<Figure size 432x288 with 1 Axes>"
      ]
     },
     "metadata": {
      "needs_background": "light"
     },
     "output_type": "display_data"
    }
   ],
   "source": [
    "y.hist()"
   ]
  },
  {
   "cell_type": "code",
   "execution_count": 78,
   "metadata": {},
   "outputs": [
    {
     "name": "stdout",
     "output_type": "stream",
     "text": [
      "moyenne:  356.9194671630859 \n",
      "mediane : 341.7070617675781\n"
     ]
    },
    {
     "data": {
      "image/png": "[encoded data removed]",
      "text/plain": [
       "<Figure size 432x288 with 1 Axes>"
      ]
     },
     "metadata": {
      "needs_background": "light"
     },
     "output_type": "display_data"
    }
   ],
   "source": [
    "measure='execution energy'\n",
    "y= data1[measure]\n",
    "std=data1[measure].std()\n",
    "\n",
    "# med = data1[measure].med()\n",
    "# print(mean,std)\n",
    "# y1=y[(y > mean - mean*2*std ) & (y < mean + 2*std)]\n",
    "\n",
    "# y.plot.kde(bw_method=0.5)\n",
    "# y1.plot.kde()\n",
    "# plt=y2.plot.kde(bw_method=0.5)\n",
    "# plt.legend([\"y\",\"y1\",\"y2\"])\n",
    "# plt.axvline(x=inf)\n",
    "# plt.axvline(x=sup)\n",
    "plt=y.plot.kde(bw_method=.5)\n",
    "plt.axvline(x=y.mean(),color=\"red\")\n",
    "plt.axvline(x=y.median(),color=\"green\")\n",
    "\n",
    "print(\"moyenne: \",y.correct().mean(),\"\\nmediane :\",y.correct().median())"
   ]
  },
  {
   "cell_type": "code",
   "execution_count": 8,
   "metadata": {},
   "outputs": [
    {
     "ename": "NameError",
     "evalue": "name 'y1' is not defined",
     "output_type": "error",
     "traceback": [
      "\u001b[0;31m---------------------------------------------------------------------------\u001b[0m",
      "\u001b[0;31mNameError\u001b[0m                                 Traceback (most recent call last)",
      "\u001b[0;32m<ipython-input-8-3f1f07e3ebe8>\u001b[0m in \u001b[0;36m<module>\u001b[0;34m\u001b[0m\n\u001b[1;32m      1\u001b[0m \u001b[0ml\u001b[0m\u001b[0;34m=\u001b[0m\u001b[0mpd\u001b[0m\u001b[0;34m.\u001b[0m\u001b[0mDataFrame\u001b[0m\u001b[0;34m(\u001b[0m\u001b[0;34m)\u001b[0m\u001b[0;34m\u001b[0m\u001b[0m\n\u001b[1;32m      2\u001b[0m \u001b[0ml\u001b[0m\u001b[0;34m[\u001b[0m\u001b[0;34m\"y\"\u001b[0m\u001b[0;34m]\u001b[0m\u001b[0;34m=\u001b[0m\u001b[0my\u001b[0m\u001b[0;34m\u001b[0m\u001b[0m\n\u001b[0;32m----> 3\u001b[0;31m \u001b[0ml\u001b[0m\u001b[0;34m[\u001b[0m\u001b[0;34m\"y1\"\u001b[0m\u001b[0;34m]\u001b[0m\u001b[0;34m=\u001b[0m\u001b[0my1\u001b[0m\u001b[0;34m\u001b[0m\u001b[0m\n\u001b[0m\u001b[1;32m      4\u001b[0m \u001b[0ml\u001b[0m\u001b[0;34m[\u001b[0m\u001b[0;34m\"y2\"\u001b[0m\u001b[0;34m]\u001b[0m\u001b[0;34m=\u001b[0m\u001b[0my2\u001b[0m\u001b[0;34m\u001b[0m\u001b[0m\n\u001b[1;32m      5\u001b[0m \u001b[0ml\u001b[0m\u001b[0;34m.\u001b[0m\u001b[0mboxplot\u001b[0m\u001b[0;34m(\u001b[0m\u001b[0mgrid\u001b[0m\u001b[0;34m=\u001b[0m\u001b[0;32mTrue\u001b[0m\u001b[0;34m)\u001b[0m\u001b[0;34m\u001b[0m\u001b[0m\n",
      "\u001b[0;31mNameError\u001b[0m: name 'y1' is not defined"
     ]
    }
   ],
   "source": []
  },
  {
   "cell_type": "code",
   "execution_count": 171,
   "metadata": {},
   "outputs": [
    {
     "data": {
      "text/plain": [
       "-3.6271160595083647e-16"
      ]
     },
     "execution_count": 171,
     "metadata": {},
     "output_type": "execute_result"
    }
   ],
   "source": [
    "z=data1[measure].correct()\n",
    "\n",
    "mean = z.mean()\n",
    "std= z.std()\n",
    "z[\"standar\"+measure]=z.apply(lambda x:(x-mean)/std)\n",
    "# show(z)\n",
    "zc= z[\"standar\"+measure]\n",
    "# zc\n",
    "\n",
    "# zc=z.correct()\n",
    "# pylab.violinplot(z.correct(),showmeans=True)\n",
    "zc.mean()"
   ]
  },
  {
   "cell_type": "code",
   "execution_count": null,
   "metadata": {},
   "outputs": [],
   "source": []
  }
 ],
 "metadata": {
  "kernelspec": {
   "display_name": "Python 3",
   "language": "python",
   "name": "python3"
  },
  "language_info": {
   "codemirror_mode": {
    "name": "ipython",
    "version": 3
   },
   "file_extension": ".py",
   "mimetype": "text/x-python",
   "name": "python",
   "nbconvert_exporter": "python",
   "pygments_lexer": "ipython3",
   "version": "3.6.6"
  }
 },
 "nbformat": 4,
 "nbformat_minor": 2
}
