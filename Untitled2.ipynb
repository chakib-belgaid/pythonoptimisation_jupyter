{
 "cells": [
  {
   "cell_type": "code",
   "execution_count": 5,
   "metadata": {},
   "outputs": [
    {
     "data": {
      "text/plain": [
       "'timestamp_1'"
      ]
     },
     "execution_count": 5,
     "metadata": {},
     "output_type": "execute_result"
    }
   ],
   "source": [
    "import pymongo\n",
    "import math \n",
    "import re\n",
    "import pandas as pd\n",
    "import numpy as np\n",
    "import pylab\n",
    "from scipy import stats \n",
    "\n",
    "from  qgrid import show_grid as show \n",
    "from datetime import datetime\n",
    "\n",
    "today=!(date +\"%d%m%y\")\n",
    "today=today[0]\n",
    "testname=\"testweekend161118\"\n",
    "client = pymongo.MongoClient('172.16.45.8', 27017)\n",
    "db = client.rapls\n",
    "sensors= db[\"sensor\"+testname]\n",
    "sensors.create_index([('timestamp',pymongo.ASCENDING)])"
   ]
  },
  {
   "cell_type": "code",
   "execution_count": 6,
   "metadata": {},
   "outputs": [],
   "source": [
    "def get_times(target,source=db[\"testcases\"+testname]):\n",
    "    \"\"\"convert the time stamps from int to datetame \"\"\"\n",
    "    x= list(db[\"testcases\"+testname].find({'name':target}))[0]\n",
    "    x['execution']=datetime.utcfromtimestamp(int(x['execution']))\n",
    "    x['begin']=datetime.utcfromtimestamp(int(x['begin']))\n",
    "    x['end']=datetime.utcfromtimestamp(int(x['end']))\n",
    "    x['warmup']=datetime.utcfromtimestamp(int(x['warmup']))\n",
    "    return x \n",
    "\n",
    "def calculate_power(times,source=sensors):\n",
    "    \"\"\"need a time object from get_times function and return 2 dataframes  \"\"\"\n",
    "    cursor =sensors.find({'target':'system','timestamp' :{'$gte':times['begin'],'$lte':times['end']}},{\"_id\":0,\"timestamp\":\"timestamp\",\"rapl.0.38.RAPL_ENERGY_PKG\":\"rapls\"})\n",
    "    results=pd.DataFrame(list(cursor),columns=['timestamp',\"rapl\"])\n",
    "    results[\"rapl\"]=results[\"rapl\"].apply(lambda row :math.ldexp( row['0']['38']['RAPL_ENERGY_PKG'],-32))\n",
    "    warmup=results[(results[\"timestamp\"]<=times[\"execution\"]) & (results[\"timestamp\"]>times[\"warmup\"] )]\n",
    "    execution = results[(results[\"timestamp\"]>times[\"execution\"]) ]\n",
    "    return warmup , execution\n",
    "\n",
    "def calculate_energy(times,source=sensors) : \n",
    "    \"\"\"need a times object from get_times \"\"\"\n",
    "    warmup,execution =calculate_power(times)\n",
    "    return   warmup[\"rapl\"].sum() , execution[\"rapl\"].sum()\n",
    "\n",
    "def get_recap(target):\n",
    "    \"\"\"require a row from the database and not a times object\"\"\"\n",
    "    times=get_times(target['name'])\n",
    "    energy=calculate_energy(times)\n",
    "    return {'name': target['name'] \n",
    "            ,'warmup time': (int(target['execution'])-int(target['warmup'])) \n",
    "            ,'warmup energy': energy[0] \n",
    "            ,'execution time': (int(target['end'])-int(target['execution']) )\n",
    "            ,'execution energy': energy[1]\n",
    "           }"
   ]
  },
  {
   "cell_type": "code",
   "execution_count": 11,
   "metadata": {
    "scrolled": true
   },
   "outputs": [
    {
     "data": {
      "application/vnd.jupyter.widget-view+json": {
       "model_id": "02e83a0a8999401e80bc438b6f9ac283",
       "version_major": 2,
       "version_minor": 0
      },
      "text/plain": [
       "QgridWidget(grid_options={'fullWidthRows': True, 'syncColumnCellResize': True, 'forceFitColumns': True, 'defau…"
      ]
     },
     "metadata": {},
     "output_type": "display_data"
    }
   ],
   "source": [
    "regx = re.compile(\".*int1.*\", re.IGNORECASE)\n",
    "times=pd.DataFrame.from_dict(list(db[\"testcases\"+testname].find({\"name\":regx})))\n",
    "# data = pd.DataFrame(columns=['name','warmup time','warmup energy','execution time ','execution energy']) \n",
    "data=[]\n",
    "times.apply(lambda row: data.append(get_recap(row)), axis=1)\n",
    "    \n",
    "data=pd.DataFrame.from_dict(data)\n",
    "show(data)"
   ]
  },
  {
   "cell_type": "code",
   "execution_count": 17,
   "metadata": {},
   "outputs": [
    {
     "data": {
      "application/vnd.jupyter.widget-view+json": {
       "model_id": "7993e6d1ddc8453c8efb7bec7da96145",
       "version_major": 2,
       "version_minor": 0
      },
      "text/plain": [
       "QgridWidget(grid_options={'fullWidthRows': True, 'syncColumnCellResize': True, 'forceFitColumns': True, 'defau…"
      ]
     },
     "metadata": {},
     "output_type": "display_data"
    }
   ],
   "source": [
    "data[\"implementation\"]= data[\"name\"].apply(lambda name:re.search('tommtiv1(?P<name>.*)int1n', name).group(1))\n",
    "mystats=data.groupby(\"implementation\").median()\n",
    "show(mystats)"
   ]
  },
  {
   "cell_type": "code",
   "execution_count": 158,
   "metadata": {},
   "outputs": [
    {
     "data": {
      "text/plain": [
       "Text(0.5,0,'energy(j)')"
      ]
     },
     "execution_count": 158,
     "metadata": {},
     "output_type": "execute_result"
    },
    {
     "data": {
      "image/png": "[encoded data removed]",
      "text/plain": [
       "<Figure size 432x288 with 1 Axes>"
      ]
     },
     "metadata": {
      "needs_background": "light"
     },
     "output_type": "display_data"
    }
   ],
   "source": [
    "mystats['execution energy'].plot(kind='barh',grid=True,legend='reverse',sort_columns=True).set_xlabel(\"energy(j)\")"
   ]
  },
  {
   "cell_type": "code",
   "execution_count": 182,
   "metadata": {},
   "outputs": [
    {
     "data": {
      "application/vnd.jupyter.widget-view+json": {
       "model_id": "3656cbec20be4351b57710471a2d5a15",
       "version_major": 2,
       "version_minor": 0
      },
      "text/plain": [
       "QgridWidget(grid_options={'fullWidthRows': True, 'syncColumnCellResize': True, 'forceFitColumns': True, 'defau…"
      ]
     },
     "metadata": {},
     "output_type": "display_data"
    }
   ],
   "source": [
    "regx = re.compile(\".*nuitkaint2n.*\", re.IGNORECASE)\n",
    "times1=pd.DataFrame.from_dict(list(db[\"testcases\"+testname].find({\"name\":regx})))\n",
    "# data1 = pd.DataFrame(columns=['name','warmup time','warmup energy','execution time ','execution energy']) \n",
    "data1=[]\n",
    "times1.apply(lambda row: data1.append(get_recap(row)), axis=1)\n",
    "    \n",
    "data1=pd.DataFrame.from_dict(data1)\n",
    "show(data1)"
   ]
  },
  {
   "cell_type": "code",
   "execution_count": 219,
   "metadata": {},
   "outputs": [
    {
     "name": "stdout",
     "output_type": "stream",
     "text": [
      "(0.755329966545105, 2.262437135414075e-07)\n"
     ]
    },
    {
     "data": {
      "application/vnd.jupyter.widget-view+json": {
       "model_id": "1519e6b311814a30b5694bba8246bcf2",
       "version_major": 2,
       "version_minor": 0
      },
      "text/plain": [
       "QgridWidget(grid_options={'fullWidthRows': True, 'syncColumnCellResize': True, 'forceFitColumns': True, 'defau…"
      ]
     },
     "metadata": {},
     "output_type": "display_data"
    }
   ],
   "source": [
    "y=data1['execution energy']\n",
    "low = 0\n",
    "high = 1\n",
    "a,b = y.quantile([low, high])\n",
    "y=y[(y > a)  & (y  < b)  ]\n",
    "print(stats.shapiro(y))\n",
    "# y.plot.kde()\n",
    "show(y)"
   ]
  },
  {
   "cell_type": "code",
   "execution_count": null,
   "metadata": {},
   "outputs": [],
   "source": []
  }
 ],
 "metadata": {
  "kernelspec": {
   "display_name": "Python 3",
   "language": "python",
   "name": "python3"
  },
  "language_info": {
   "codemirror_mode": {
    "name": "ipython",
    "version": 3
   },
   "file_extension": ".py",
   "mimetype": "text/x-python",
   "name": "python",
   "nbconvert_exporter": "python",
   "pygments_lexer": "ipython3",
   "version": "3.6.6"
  }
 },
 "nbformat": 4,
 "nbformat_minor": 2
}
