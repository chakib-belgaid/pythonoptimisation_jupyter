{
 "cells": [
  {
   "cell_type": "code",
   "execution_count": 308,
   "metadata": {},
   "outputs": [],
   "source": [
    "import pymongo\n",
    "import pandas as pd\n",
    "import math \n",
    "from  qgrid import show_grid as show \n",
    "from datetime import datetime\n",
    "\n",
    "client = pymongo.MongoClient('172.16.45.8', 27017)\n",
    "db = client.rapls\n",
    "sensors= db.sensor\n",
    "# df = pd.DataFrame.from_dict(list(sensors.find()))\n",
    "# df['timestamp']= df.apply(lambda row :int(row['timestamp'].timestamp()),axis=1)"
   ]
  },
  {
   "cell_type": "code",
   "execution_count": 270,
   "metadata": {},
   "outputs": [
    {
     "data": {
      "text/html": [
       "<div>\n",
       "<style scoped>\n",
       "    .dataframe tbody tr th:only-of-type {\n",
       "        vertical-align: middle;\n",
       "    }\n",
       "\n",
       "    .dataframe tbody tr th {\n",
       "        vertical-align: top;\n",
       "    }\n",
       "\n",
       "    .dataframe thead th {\n",
       "        text-align: right;\n",
       "    }\n",
       "</style>\n",
       "<table border=\"1\" class=\"dataframe\">\n",
       "  <thead>\n",
       "    <tr style=\"text-align: right;\">\n",
       "      <th></th>\n",
       "      <th>_id</th>\n",
       "      <th>begin</th>\n",
       "      <th>end</th>\n",
       "      <th>execution</th>\n",
       "      <th>name</th>\n",
       "      <th>warmup</th>\n",
       "    </tr>\n",
       "  </thead>\n",
       "  <tbody>\n",
       "    <tr>\n",
       "      <th>0</th>\n",
       "      <td>5be06b84307acc003390e460</td>\n",
       "      <td>NaN</td>\n",
       "      <td>NaN</td>\n",
       "      <td>1541431165</td>\n",
       "      <td>tommtiv1</td>\n",
       "      <td>1541431128</td>\n",
       "    </tr>\n",
       "    <tr>\n",
       "      <th>1</th>\n",
       "      <td>5be072d125302345d5a8ab65</td>\n",
       "      <td>NaN</td>\n",
       "      <td>NaN</td>\n",
       "      <td>5678</td>\n",
       "      <td>testdummy</td>\n",
       "      <td>1234</td>\n",
       "    </tr>\n",
       "    <tr>\n",
       "      <th>2</th>\n",
       "      <td>5be0749b25302349ec6fc28a</td>\n",
       "      <td>NaN</td>\n",
       "      <td>NaN</td>\n",
       "      <td>1541436495</td>\n",
       "      <td>test2</td>\n",
       "      <td>1541436457</td>\n",
       "    </tr>\n",
       "    <tr>\n",
       "      <th>3</th>\n",
       "      <td>5be0762a2530234c37db23f0</td>\n",
       "      <td>NaN</td>\n",
       "      <td>NaN</td>\n",
       "      <td>1541436892</td>\n",
       "      <td>test11</td>\n",
       "      <td>1541436854</td>\n",
       "    </tr>\n",
       "    <tr>\n",
       "      <th>4</th>\n",
       "      <td>5be078ea2530234eaca2a8f7</td>\n",
       "      <td>1541437560</td>\n",
       "      <td>1541437674</td>\n",
       "      <td>1541437598</td>\n",
       "      <td>test13</td>\n",
       "      <td>1541437560</td>\n",
       "    </tr>\n",
       "  </tbody>\n",
       "</table>\n",
       "</div>"
      ],
      "text/plain": [
       "                        _id       begin         end   execution       name  \\\n",
       "0  5be06b84307acc003390e460         NaN         NaN  1541431165   tommtiv1   \n",
       "1  5be072d125302345d5a8ab65         NaN         NaN        5678  testdummy   \n",
       "2  5be0749b25302349ec6fc28a         NaN         NaN  1541436495      test2   \n",
       "3  5be0762a2530234c37db23f0         NaN         NaN  1541436892     test11   \n",
       "4  5be078ea2530234eaca2a8f7  1541437560  1541437674  1541437598     test13   \n",
       "\n",
       "       warmup  \n",
       "0  1541431128  \n",
       "1        1234  \n",
       "2  1541436457  \n",
       "3  1541436854  \n",
       "4  1541437560  "
      ]
     },
     "execution_count": 270,
     "metadata": {},
     "output_type": "execute_result"
    }
   ],
   "source": [
    "pd.DataFrame.from_dict(list(db.testcases.find()))"
   ]
  },
  {
   "cell_type": "code",
   "execution_count": 333,
   "metadata": {},
   "outputs": [
    {
     "ename": "TypeError",
     "evalue": "an integer is required (got type str)",
     "output_type": "error",
     "traceback": [
      "\u001b[0;31m---------------------------------------------------------------------------\u001b[0m",
      "\u001b[0;31mTypeError\u001b[0m                                 Traceback (most recent call last)",
      "\u001b[0;32m<ipython-input-333-02df38c36aff>\u001b[0m in \u001b[0;36m<module>\u001b[0;34m\u001b[0m\n\u001b[1;32m      1\u001b[0m \u001b[0;34m\u001b[0m\u001b[0m\n\u001b[1;32m      2\u001b[0m \u001b[0mx\u001b[0m\u001b[0;34m=\u001b[0m\u001b[0mget_times\u001b[0m\u001b[0;34m(\u001b[0m\u001b[0;34m'test13'\u001b[0m\u001b[0;34m)\u001b[0m\u001b[0;34m[\u001b[0m\u001b[0;34m'begin'\u001b[0m\u001b[0;34m]\u001b[0m\u001b[0;34m\u001b[0m\u001b[0m\n\u001b[0;32m----> 3\u001b[0;31m \u001b[0mdatetime\u001b[0m\u001b[0;34m.\u001b[0m\u001b[0mutcfromtimestamp\u001b[0m\u001b[0;34m(\u001b[0m\u001b[0mx\u001b[0m\u001b[0;34m)\u001b[0m\u001b[0;34m\u001b[0m\u001b[0m\n\u001b[0m",
      "\u001b[0;31mTypeError\u001b[0m: an integer is required (got type str)"
     ]
    }
   ],
   "source": [
    "\n",
    "x=get_times('test13')['begin']\n",
    "datetime.utcfromtimestamp(x)\n"
   ]
  },
  {
   "cell_type": "code",
   "execution_count": 340,
   "metadata": {},
   "outputs": [],
   "source": [
    "def get_times(target,source=db.testcases):\n",
    "    x= list(db.testcases.find({'name':target}))[0]\n",
    "    x['execution']=datetime.utcfromtimestamp(int(x['execution']))\n",
    "    x['begin']=datetime.utcfromtimestamp(int(x['begin']))\n",
    "    x['end']=datetime.utcfromtimestamp(int(x['end']))\n",
    "    x['warmup']=datetime.utcfromtimestamp(int(x['warmup']))\n",
    "    return x "
   ]
  },
  {
   "cell_type": "code",
   "execution_count": 346,
   "metadata": {},
   "outputs": [],
   "source": [
    "def calculate_power(target , source=db.sensor):\n",
    "    times=get_times(target)\n",
    "    df = pd.DataFrame.from_dict(list(sensors.find({'timestamp' :{'$gte':times['begin'],'$lte':times['end']}})))\n",
    "    result=df[df.target== target][[\"_id\",\"rapl\",\"timestamp\"]]\n",
    "    system=df[df.target== \"system\"] \n",
    "    result[\"rapl\"]=result.apply(lambda row :math.ldexp(  system[system.timestamp==row['timestamp']].rapl.iloc[0]['0']['38']['RAPL_ENERGY_PKG'],-32), axis=1)\n",
    "#     result['timestamp']= result.apply(lambda row :int(row['timestamp'].timestamp()),axis=1)\n",
    "    return result"
   ]
  },
  {
   "cell_type": "code",
   "execution_count": 341,
   "metadata": {},
   "outputs": [
    {
     "data": {
      "text/plain": [
       "{'_id': ObjectId('5be078ea2530234eaca2a8f7'),\n",
       " 'begin': datetime.datetime(2018, 11, 5, 17, 6),\n",
       " 'end': datetime.datetime(2018, 11, 5, 17, 7, 54),\n",
       " 'name': 'test13',\n",
       " 'warmup': datetime.datetime(2018, 11, 5, 17, 6),\n",
       " 'execution': datetime.datetime(2018, 11, 5, 17, 6, 38)}"
      ]
     },
     "execution_count": 341,
     "metadata": {},
     "output_type": "execute_result"
    }
   ],
   "source": [
    "get_times('test13')"
   ]
  },
  {
   "cell_type": "code",
   "execution_count": 354,
   "metadata": {},
   "outputs": [],
   "source": [
    "def calculate_energy(targetname) : \n",
    "    \n",
    "    times=get_times(targetname)\n",
    "    target=calculate_power(targetname)\n",
    "    warmup = target[(target.timestamp >= times['warmup']) & (target.timestamp < times['execution']) ].loc[:,\"rapl\"].sum() \n",
    "    execution = target[(target.timestamp >= times['execution']) ].loc[:,\"rapl\"].sum() \n",
    "    return {'warmup':warmup,'execution': execution} "
   ]
  },
  {
   "cell_type": "code",
   "execution_count": 355,
   "metadata": {},
   "outputs": [
    {
     "data": {
      "text/plain": [
       "{'warmup': 819.5488891601562, 'execution': 1599.0376586914062}"
      ]
     },
     "execution_count": 355,
     "metadata": {},
     "output_type": "execute_result"
    }
   ],
   "source": [
    "calculate_energy('test13')"
   ]
  },
  {
   "cell_type": "code",
   "execution_count": 347,
   "metadata": {},
   "outputs": [
    {
     "data": {
      "application/vnd.jupyter.widget-view+json": {
       "model_id": "662f557b5ac34915b11de5be928f9304",
       "version_major": 2,
       "version_minor": 0
      },
      "text/plain": [
       "QgridWidget(grid_options={'fullWidthRows': True, 'syncColumnCellResize': True, 'forceFitColumns': True, 'defau…"
      ]
     },
     "metadata": {},
     "output_type": "display_data"
    }
   ],
   "source": [
    "tommti=calculate_power('test13')\n",
    "show(tommti)"
   ]
  },
  {
   "cell_type": "code",
   "execution_count": 27,
   "metadata": {},
   "outputs": [
    {
     "data": {
      "text/plain": [
       "23.52362060546875"
      ]
     },
     "execution_count": 27,
     "metadata": {},
     "output_type": "execute_result"
    }
   ],
   "source": [
    "j = df.iloc[-1].rapl['0']['38']['RAPL_ENERGY_PKG']\n",
    "math.ldexp(j, -32)"
   ]
  },
  {
   "cell_type": "code",
   "execution_count": 320,
   "metadata": {},
   "outputs": [
    {
     "data": {
      "application/vnd.jupyter.widget-view+json": {
       "model_id": "aa527fb1ce3541b3918ab462e540187c",
       "version_major": 2,
       "version_minor": 0
      },
      "text/plain": [
       "QgridWidget(grid_options={'fullWidthRows': True, 'syncColumnCellResize': True, 'forceFitColumns': True, 'defau…"
      ]
     },
     "metadata": {},
     "output_type": "display_data"
    }
   ],
   "source": [
    "show(df)"
   ]
  },
  {
   "cell_type": "code",
   "execution_count": 197,
   "metadata": {},
   "outputs": [],
   "source": [
    "tommtiint3=df[df.target== \"tommtiint4\"][[\"_id\",\"rapl\",\"timestamp\"]]\n",
    "system=df[df.target== \"system\"] \n",
    "tommtiint3[\"rapl\"]=tommtiint3.apply(lambda row :math.ldexp(  system[system.timestamp==row['timestamp']].rapl.iloc[0]['0']['38']['RAPL_ENERGY_PKG'],-32), axis=1)\n"
   ]
  },
  {
   "cell_type": "code",
   "execution_count": 199,
   "metadata": {},
   "outputs": [],
   "source": [
    "def calculate_power(targert , source=db.sensor):\n",
    "    df = pd.DataFrame.from_dict(list(sensors.find()))\n",
    "    result=df[df.target== target][[\"_id\",\"rapl\",\"timestamp\"]]\n",
    "    system=df[df.target== \"system\"] \n",
    "    result[\"rapl\"]=result.apply(lambda row :math.ldexp(  system[system.timestamp==row['timestamp']].rapl.iloc[0]['0']['38']['RAPL_ENERGY_PKG'],-32), axis=1)\n",
    "    result['timestamp']= result.apply(lambda row :int(row['timestamp'].timestamp()),axis=1)\n",
    "    return result"
   ]
  },
  {
   "cell_type": "code",
   "execution_count": 198,
   "metadata": {},
   "outputs": [
    {
     "data": {
      "application/vnd.jupyter.widget-view+json": {
       "model_id": "cd457c3862c449f1b7e0b4aaf178dcb3",
       "version_major": 2,
       "version_minor": 0
      },
      "text/plain": [
       "QgridWidget(grid_options={'fullWidthRows': True, 'syncColumnCellResize': True, 'forceFitColumns': True, 'defau…"
      ]
     },
     "metadata": {},
     "output_type": "display_data"
    }
   ],
   "source": [
    "import qgrid \n",
    "qgrid.show_grid(tommtiint3)"
   ]
  },
  {
   "cell_type": "code",
   "execution_count": 190,
   "metadata": {},
   "outputs": [
    {
     "data": {
      "text/plain": [
       "{'0': {'38': {'RAPL_ENERGY_DRAM': 29894311936.0,\n",
       "   'RAPL_ENERGY_PKG': 157836902400.0,\n",
       "   'time_enabled': 4162835289287.0,\n",
       "   'time_running': 4162835289287.0}},\n",
       " '1': {'13': {'RAPL_ENERGY_DRAM': 29524492288.0,\n",
       "   'RAPL_ENERGY_PKG': 122203144192.0,\n",
       "   'time_enabled': 4162835294638.0,\n",
       "   'time_running': 4162835294638.0}}}"
      ]
     },
     "execution_count": 190,
     "metadata": {},
     "output_type": "execute_result"
    }
   ],
   "source": [
    "tommtiint3.iloc[0].rapl"
   ]
  },
  {
   "cell_type": "code",
   "execution_count": null,
   "metadata": {},
   "outputs": [],
   "source": []
  }
 ],
 "metadata": {
  "kernelspec": {
   "display_name": "Python 3",
   "language": "python",
   "name": "python3"
  },
  "language_info": {
   "codemirror_mode": {
    "name": "ipython",
    "version": 3
   },
   "file_extension": ".py",
   "mimetype": "text/x-python",
   "name": "python",
   "nbconvert_exporter": "python",
   "pygments_lexer": "ipython3",
   "version": "3.6.6"
  }
 },
 "nbformat": 4,
 "nbformat_minor": 2
}
